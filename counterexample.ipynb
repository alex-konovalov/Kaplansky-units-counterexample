{
 "cells": [
  {
   "cell_type": "markdown",
   "id": "floral-credits",
   "metadata": {},
   "source": [
    "## Verification of the counterexample to the unit conjecture for group rings"
   ]
  },
  {
   "cell_type": "markdown",
   "id": "likely-affect",
   "metadata": {},
   "source": [
    "In this notebook, we follow the proof by Giles Gardam in \"A counterexample to the unit conjecture for group rings\" (https://arxiv.org/abs/2102.11818) and provide an independent verification of the calculations in GAP."
   ]
  },
  {
   "cell_type": "markdown",
   "id": "promotional-torture",
   "metadata": {},
   "source": [
    "The natural idea would be to create the group $G$ as follows:"
   ]
  },
  {
   "cell_type": "code",
   "execution_count": 1,
   "id": "heard-underground",
   "metadata": {},
   "outputs": [
    {
     "data": {
      "text/plain": [
       "<group with 2 generators>"
      ]
     },
     "execution_count": 1,
     "metadata": {
      "text/plain": ""
     },
     "output_type": "execute_result"
    }
   ],
   "source": [
    "F:=FreeGroup(\"a\",\"b\");"
   ]
  },
  {
   "cell_type": "code",
   "execution_count": 2,
   "id": "working-punch",
   "metadata": {},
   "outputs": [
    {
     "data": {
      "text/plain": [
       "<group with 2 generators>"
      ]
     },
     "execution_count": 2,
     "metadata": {
      "text/plain": ""
     },
     "output_type": "execute_result"
    }
   ],
   "source": [
    "G:=F/ParseRelators(GeneratorsOfGroup(F),\"(a^2)^b=a^-2, (b^2)^a=b^-2\");"
   ]
  },
  {
   "cell_type": "markdown",
   "id": "frequent-triangle",
   "metadata": {},
   "source": [
    "This, however, does not work. Depending on packages loaded, GAP will either descend into calculating the order of the group, or, if you will will try bypass that by setting it to infinity, will run out of time after the following:  \n",
    "```\n",
    "SetSize(G,infinity); # to trick LAGUNA package \n",
    "gens:=GeneratorsOfGroup(G);\n",
    "a:=gens[1];;\n",
    "b:=gens[2];;\n",
    "F:=GF(2);\n",
    "FG:=GroupRing(F,G);\n",
    "e:=One(FG);;\n",
    "x:=e*a^2;;\n",
    "y:=e*b^2;;\n",
    "z:=e*(a*b)^2;;\n",
    "p:=(e+x)*(e+y)*(e+z^-1);\n",
    "```"
   ]
  },
  {
   "cell_type": "markdown",
   "id": "dirty-exception",
   "metadata": {},
   "source": [
    "We can use the dataset \"Diffuse property of low dimensional Bieberbach groups\" by Rafał Lutowski (https://mat.ug.edu.pl/~rlutowsk/diffuse/), mentioned in \"A short note about diffuse Bieberbach groups\" by Anna Gąsior, Rafał Lutowski and Andrzej Szczepański (https://arxiv.org/abs/1703.04972), to find out the generators of this group given as a matrix group. After downloading and unpacking the dataset, call in GAP\n",
    "```\n",
    "f:=ReadAsFunction(\"diffuse.g\");\n",
    "d:=f();;\n",
    "d3:=Filtered(d, x-> x.dim=3);; # only 10 groups of dimension 3 \n",
    "g:=Filtered(d3, x-> x.diffuse=false);\n",
    "```\n",
    "to get\n",
    "```\n",
    "[ rec( \n",
    "      cgens := \n",
    "        [ [ [ -1, 0, 0, 0 ], [ 0, 1, 0, 1/2 ], [ 0, 0, -1, 1/2 ], [ 0, 0, 0, 1 ] ], \n",
    "          [ [ 1, 0, 0, 1/2 ], [ 0, -1, 0, 0 ], [ 0, 0, -1, 0 ], [ 0, 0, 0, 1 ] ] ], \n",
    "      diffuse := false, dim := 3, hdiff := false, holonomy := [ 4, 2 ], \n",
    "      name := \"min.10.1.1.7\", zrank := 0 ) ]\n",
    "```"
   ]
  },
  {
   "cell_type": "markdown",
   "id": "expensive-rough",
   "metadata": {},
   "source": [
    "Now we can construct the group using the supplied generators, and follow the proof to check that it gives a construction for a unit."
   ]
  },
  {
   "cell_type": "code",
   "execution_count": 3,
   "id": "demonstrated-photograph",
   "metadata": {},
   "outputs": [
    {
     "data": {
      "text/plain": [
       "[ [ [ -1, 0, 0, 0 ], [ 0, 1, 0, 1/2 ], [ 0, 0, -1, 1/2 ], [ 0, 0, 0, 1 ] ], [ [ 1, 0, 0, 1/2 ], [ 0, -1, 0, 0 ], [ 0, 0, -1, 0 ], [ 0, 0, 0, 1 ] ] ]"
      ]
     },
     "execution_count": 3,
     "metadata": {
      "text/plain": ""
     },
     "output_type": "execute_result"
    }
   ],
   "source": [
    "gens:= [ [ [ -1, 0, 0, 0 ], [ 0, 1, 0, 1/2 ], [ 0, 0, -1, 1/2 ], [ 0, 0, 0, 1 ] ],\n",
    "[ [ 1, 0, 0, 1/2 ], [ 0, -1, 0, 0 ], [ 0, 0, -1, 0 ], [ 0, 0, 0, 1 ] ] ];"
   ]
  },
  {
   "cell_type": "code",
   "execution_count": 4,
   "id": "nutritional-seventh",
   "metadata": {},
   "outputs": [
    {
     "data": {
      "text/plain": [
       "[ [ -1, 0, 0, 0 ], [ 0, 1, 0, 1/2 ], [ 0, 0, -1, 1/2 ], [ 0, 0, 0, 1 ] ]"
      ]
     },
     "execution_count": 4,
     "metadata": {
      "text/plain": ""
     },
     "output_type": "execute_result"
    }
   ],
   "source": [
    "a:=gens[1];"
   ]
  },
  {
   "cell_type": "code",
   "execution_count": 5,
   "id": "patient-nerve",
   "metadata": {},
   "outputs": [
    {
     "data": {
      "text/plain": [
       "[ [ 1, 0, 0, 1/2 ], [ 0, -1, 0, 0 ], [ 0, 0, -1, 0 ], [ 0, 0, 0, 1 ] ]"
      ]
     },
     "execution_count": 5,
     "metadata": {
      "text/plain": ""
     },
     "output_type": "execute_result"
    }
   ],
   "source": [
    "b:=gens[2];"
   ]
  },
  {
   "cell_type": "code",
   "execution_count": 6,
   "id": "atmospheric-underground",
   "metadata": {},
   "outputs": [
    {
     "data": {
      "text/plain": [
       "<group with 2 generators>"
      ]
     },
     "execution_count": 6,
     "metadata": {
      "text/plain": ""
     },
     "output_type": "execute_result"
    }
   ],
   "source": [
    "G:=Group(gens);"
   ]
  },
  {
   "cell_type": "code",
   "execution_count": 7,
   "id": "demonstrated-failing",
   "metadata": {},
   "outputs": [
    {
     "data": {
      "text/plain": [
       "true"
      ]
     },
     "execution_count": 7,
     "metadata": {
      "text/plain": ""
     },
     "output_type": "execute_result"
    }
   ],
   "source": [
    "Size(G)=infinity;"
   ]
  },
  {
   "cell_type": "markdown",
   "id": "nearby-championship",
   "metadata": {},
   "source": [
    "We are now constructing the group algebra of $G$ over the field of two elements $F$:"
   ]
  },
  {
   "cell_type": "code",
   "execution_count": 8,
   "id": "foster-bridal",
   "metadata": {},
   "outputs": [
    {
     "data": {
      "text/plain": [
       "GF(2)"
      ]
     },
     "execution_count": 8,
     "metadata": {
      "text/plain": ""
     },
     "output_type": "execute_result"
    }
   ],
   "source": [
    "F:=GF(2);"
   ]
  },
  {
   "cell_type": "code",
   "execution_count": 9,
   "id": "inside-chaos",
   "metadata": {},
   "outputs": [],
   "source": [
    "FG:=GroupRing(F,G);;"
   ]
  },
  {
   "cell_type": "code",
   "execution_count": 10,
   "id": "compound-gothic",
   "metadata": {},
   "outputs": [
    {
     "name": "stdout",
     "output_type": "stream",
     "text": [
      "AlgebraWithOne( GF(2), ... )"
     ]
    }
   ],
   "source": [
    "Print(FG);"
   ]
  },
  {
   "cell_type": "markdown",
   "id": "under-dancing",
   "metadata": {},
   "source": [
    "This is the identity element of $FG$. We will use it to embed elements of $G$ into $FG$ (of course, we could have used `Embedding` instead)."
   ]
  },
  {
   "cell_type": "code",
   "execution_count": 12,
   "id": "alternate-impossible",
   "metadata": {},
   "outputs": [
    {
     "name": "stdout",
     "output_type": "stream",
     "text": [
      "(Z(2)^0)*[ [ 1, 0, 0, 0 ], [ 0, 1, 0, 0 ], [ 0, 0, 1, 0 ], [ 0, 0, 0, 1 ] ]"
     ]
    }
   ],
   "source": [
    "e:=One(FG);;Print(e);"
   ]
  },
  {
   "cell_type": "markdown",
   "id": "dense-illustration",
   "metadata": {},
   "source": [
    "Here we construct $x$, $y$, $p$, $q$,$r$, $s$ as given in the formulation of Theorem A:"
   ]
  },
  {
   "cell_type": "code",
   "execution_count": 14,
   "id": "reverse-hazard",
   "metadata": {},
   "outputs": [
    {
     "name": "stdout",
     "output_type": "stream",
     "text": [
      "(Z(2)^0)*[ [ 1, 0, 0, 0 ], [ 0, 1, 0, 1 ], [ 0, 0, 1, 0 ], [ 0, 0, 0, 1 ] ]"
     ]
    }
   ],
   "source": [
    "x:=e*a^2;;Print(x);"
   ]
  },
  {
   "cell_type": "code",
   "execution_count": 16,
   "id": "virtual-exhibit",
   "metadata": {},
   "outputs": [
    {
     "name": "stdout",
     "output_type": "stream",
     "text": [
      "(Z(2)^0)*[ [ 1, 0, 0, 1 ], [ 0, 1, 0, 0 ], [ 0, 0, 1, 0 ], [ 0, 0, 0, 1 ] ]"
     ]
    }
   ],
   "source": [
    "y:=e*b^2;;Print(y);"
   ]
  },
  {
   "cell_type": "code",
   "execution_count": 18,
   "id": "eleven-hungarian",
   "metadata": {},
   "outputs": [
    {
     "name": "stdout",
     "output_type": "stream",
     "text": [
      "(Z(2)^0)*[ [ 1, 0, 0, 0 ], [ 0, 1, 0, 0 ], [ 0, 0, 1, 1 ], [ 0, 0, 0, 1 ] ]"
     ]
    }
   ],
   "source": [
    "z:=e*(a*b)^2;;Print(z);"
   ]
  },
  {
   "cell_type": "code",
   "execution_count": 20,
   "id": "fiscal-holmes",
   "metadata": {},
   "outputs": [
    {
     "name": "stdout",
     "output_type": "stream",
     "text": [
      "(Z(2)^0)*[ [ 1, 0, 0, 0 ], [ 0, 1, 0, 0 ], [ 0, 0, 1, -1 ], [ 0, 0, 0, 1 ] ]+(\n",
      "Z(2)^0)*[ [ 1, 0, 0, 0 ], [ 0, 1, 0, 0 ], [ 0, 0, 1, 0 ], [ 0, 0, 0, 1 ] ]+(\n",
      "Z(2)^0)*[ [ 1, 0, 0, 0 ], [ 0, 1, 0, 1 ], [ 0, 0, 1, -1 ], [ 0, 0, 0, 1 ] ]+(\n",
      "Z(2)^0)*[ [ 1, 0, 0, 0 ], [ 0, 1, 0, 1 ], [ 0, 0, 1, 0 ], [ 0, 0, 0, 1 ] ]+(\n",
      "Z(2)^0)*[ [ 1, 0, 0, 1 ], [ 0, 1, 0, 0 ], [ 0, 0, 1, -1 ], [ 0, 0, 0, 1 ] ]+(\n",
      "Z(2)^0)*[ [ 1, 0, 0, 1 ], [ 0, 1, 0, 0 ], [ 0, 0, 1, 0 ], [ 0, 0, 0, 1 ] ]+(\n",
      "Z(2)^0)*[ [ 1, 0, 0, 1 ], [ 0, 1, 0, 1 ], [ 0, 0, 1, -1 ], [ 0, 0, 0, 1 ] ]+(\n",
      "Z(2)^0)*[ [ 1, 0, 0, 1 ], [ 0, 1, 0, 1 ], [ 0, 0, 1, 0 ], [ 0, 0, 0, 1 ] ]"
     ]
    }
   ],
   "source": [
    "p:=(e+x)*(e+y)*(e+z^-1);;Print(p);"
   ]
  },
  {
   "cell_type": "code",
   "execution_count": 22,
   "id": "binary-royalty",
   "metadata": {},
   "outputs": [
    {
     "name": "stdout",
     "output_type": "stream",
     "text": [
      "(Z(2)^0)*[ [ 1, 0, 0, -1 ], [ 0, 1, 0, -1 ], [ 0, 0, 1, 0 ], [ 0, 0, 0, 1 ] \n",
      " ]+(Z(2)^0)*[ [ 1, 0, 0, -1 ], [ 0, 1, 0, 0 ], [ 0, 0, 1, 1 ], [ 0, 0, 0, 1 ] \n",
      " ]+(Z(2)^0)*[ [ 1, 0, 0, 0 ], [ 0, 1, 0, 0 ], [ 0, 0, 1, 1 ], [ 0, 0, 0, 1 ] \n",
      " ]+(Z(2)^0)*[ [ 1, 0, 0, 0 ], [ 0, 1, 0, 1 ], [ 0, 0, 1, 0 ], [ 0, 0, 0, 1 ] ]"
     ]
    }
   ],
   "source": [
    "q:=x^-1*y^-1 + x + y^-1*z + z;;Print(q);"
   ]
  },
  {
   "cell_type": "code",
   "execution_count": 24,
   "id": "familiar-termination",
   "metadata": {},
   "outputs": [
    {
     "name": "stdout",
     "output_type": "stream",
     "text": [
      "(Z(2)^0)*[ [ 1, 0, 0, -1 ], [ 0, 1, 0, 0 ], [ 0, 0, 1, 1 ], [ 0, 0, 0, 1 ] ]+(\n",
      "Z(2)^0)*[ [ 1, 0, 0, 0 ], [ 0, 1, 0, 0 ], [ 0, 0, 1, 0 ], [ 0, 0, 0, 1 ] ]+(\n",
      "Z(2)^0)*[ [ 1, 0, 0, 0 ], [ 0, 1, 0, 1 ], [ 0, 0, 1, 0 ], [ 0, 0, 0, 1 ] ]+(\n",
      "Z(2)^0)*[ [ 1, 0, 0, 1 ], [ 0, 1, 0, 1 ], [ 0, 0, 1, 1 ], [ 0, 0, 0, 1 ] ]"
     ]
    }
   ],
   "source": [
    "r:=e+x+y^-1*z+x*y*z;;Print(r);"
   ]
  },
  {
   "cell_type": "code",
   "execution_count": 26,
   "id": "sharing-large",
   "metadata": {},
   "outputs": [
    {
     "name": "stdout",
     "output_type": "stream",
     "text": [
      "(Z(2)^0)*[ [ 1, 0, 0, -1 ], [ 0, 1, 0, 0 ], [ 0, 0, 1, -1 ], [ 0, 0, 0, 1 ] \n",
      " ]+(Z(2)^0)*[ [ 1, 0, 0, 0 ], [ 0, 1, 0, -1 ], [ 0, 0, 1, -1 ], \n",
      "  [ 0, 0, 0, 1 ] ]+(Z(2)^0)*[ [ 1, 0, 0, 0 ], [ 0, 1, 0, 0 ], [ 0, 0, 1, 0 ], \n",
      "  [ 0, 0, 0, 1 ] ]+(Z(2)^0)*[ [ 1, 0, 0, 0 ], [ 0, 1, 0, 1 ], [ 0, 0, 1, -1 ],\n",
      "  [ 0, 0, 0, 1 ] ]+(Z(2)^0)*[ [ 1, 0, 0, 1 ], [ 0, 1, 0, 0 ], [ 0, 0, 1, -1 ],\n",
      "  [ 0, 0, 0, 1 ] ]"
     ]
    }
   ],
   "source": [
    "s:=e+(x+x^-1+y+y^-1)*z^-1;;Print(s);"
   ]
  },
  {
   "cell_type": "markdown",
   "id": "listed-oklahoma",
   "metadata": {},
   "source": [
    "Then theorem A states that $u$ is a non-trivial unit of $FG$:"
   ]
  },
  {
   "cell_type": "code",
   "execution_count": 28,
   "id": "bound-mileage",
   "metadata": {},
   "outputs": [
    {
     "name": "stdout",
     "output_type": "stream",
     "text": [
      "(Z(2)^0)*[ [ -1, 0, 0, -3/2 ], [ 0, -1, 0, 1/2 ], [ 0, 0, 1, -1/2 ], \n",
      "  [ 0, 0, 0, 1 ] ]+(Z(2)^0)*[ [ -1, 0, 0, -1 ], [ 0, 1, 0, -1/2 ], \n",
      "  [ 0, 0, -1, 1/2 ], [ 0, 0, 0, 1 ] ]+(Z(2)^0)*\n",
      "[ [ -1, 0, 0, -1 ], [ 0, 1, 0, 1/2 ], [ 0, 0, -1, 3/2 ], [ 0, 0, 0, 1 ] ]+(\n",
      "Z(2)^0)*[ [ -1, 0, 0, -1/2 ], [ 0, -1, 0, -1/2 ], [ 0, 0, 1, -1/2 ], \n",
      "  [ 0, 0, 0, 1 ] ]+(Z(2)^0)*[ [ -1, 0, 0, -1/2 ], [ 0, -1, 0, 1/2 ], \n",
      "  [ 0, 0, 1, 1/2 ], [ 0, 0, 0, 1 ] ]+(Z(2)^0)*\n",
      "[ [ -1, 0, 0, -1/2 ], [ 0, -1, 0, 3/2 ], [ 0, 0, 1, -1/2 ], [ 0, 0, 0, 1 ] ]+(\n",
      "Z(2)^0)*[ [ -1, 0, 0, 0 ], [ 0, 1, 0, 1/2 ], [ 0, 0, -1, 3/2 ], \n",
      "  [ 0, 0, 0, 1 ] ]+(Z(2)^0)*[ [ -1, 0, 0, 0 ], [ 0, 1, 0, 3/2 ], \n",
      "  [ 0, 0, -1, 1/2 ], [ 0, 0, 0, 1 ] ]+(Z(2)^0)*\n",
      "[ [ -1, 0, 0, 1/2 ], [ 0, -1, 0, 1/2 ], [ 0, 0, 1, -1/2 ], [ 0, 0, 0, 1 ] ]+(\n",
      "Z(2)^0)*[ [ 1, 0, 0, -1/2 ], [ 0, -1, 0, 0 ], [ 0, 0, -1, 1 ], [ 0, 0, 0, 1 ] \n",
      " ]+(Z(2)^0)*[ [ 1, 0, 0, 0 ], [ 0, 1, 0, 0 ], [ 0, 0, 1, -1 ], [ 0, 0, 0, 1 ] \n",
      " ]+(Z(2)^0)*[ [ 1, 0, 0, 0 ], [ 0, 1, 0, 0 ], [ 0, 0, 1, 0 ], [ 0, 0, 0, 1 ] \n",
      " ]+(Z(2)^0)*[ [ 1, 0, 0, 0 ], [ 0, 1, 0, 1 ], [ 0, 0, 1, -1 ], [ 0, 0, 0, 1 ] \n",
      " ]+(Z(2)^0)*[ [ 1, 0, 0, 0 ], [ 0, 1, 0, 1 ], [ 0, 0, 1, 0 ], [ 0, 0, 0, 1 ] \n",
      " ]+(Z(2)^0)*[ [ 1, 0, 0, 1/2 ], [ 0, -1, 0, 0 ], [ 0, 0, -1, 0 ], \n",
      "  [ 0, 0, 0, 1 ] ]+(Z(2)^0)*[ [ 1, 0, 0, 1/2 ], [ 0, -1, 0, 1 ], \n",
      "  [ 0, 0, -1, 0 ], [ 0, 0, 0, 1 ] ]+(Z(2)^0)*\n",
      "[ [ 1, 0, 0, 1 ], [ 0, 1, 0, 0 ], [ 0, 0, 1, -1 ], [ 0, 0, 0, 1 ] ]+(Z(2)^0)*\n",
      "[ [ 1, 0, 0, 1 ], [ 0, 1, 0, 0 ], [ 0, 0, 1, 0 ], [ 0, 0, 0, 1 ] ]+(Z(2)^0)*\n",
      "[ [ 1, 0, 0, 1 ], [ 0, 1, 0, 1 ], [ 0, 0, 1, -1 ], [ 0, 0, 0, 1 ] ]+(Z(2)^0)*\n",
      "[ [ 1, 0, 0, 1 ], [ 0, 1, 0, 1 ], [ 0, 0, 1, 0 ], [ 0, 0, 0, 1 ] ]+(Z(2)^0)*\n",
      "[ [ 1, 0, 0, 3/2 ], [ 0, -1, 0, 1 ], [ 0, 0, -1, 1 ], [ 0, 0, 0, 1 ] ]"
     ]
    }
   ],
   "source": [
    "u := p + q*a + r*b + s*a*b;;Print(u);"
   ]
  },
  {
   "cell_type": "markdown",
   "id": "adjustable-comparison",
   "metadata": {},
   "source": [
    "Here there is a construction of $v = u^{-1}$:"
   ]
  },
  {
   "cell_type": "code",
   "execution_count": 30,
   "id": "opened-passing",
   "metadata": {},
   "outputs": [
    {
     "name": "stdout",
     "output_type": "stream",
     "text": [
      "(Z(2)^0)*[ [ 1, 0, 0, -1 ], [ 0, 1, 0, -1 ], [ 0, 0, 1, 0 ], [ 0, 0, 0, 1 ] \n",
      " ]+(Z(2)^0)*[ [ 1, 0, 0, -1 ], [ 0, 1, 0, -1 ], [ 0, 0, 1, 1 ], \n",
      "  [ 0, 0, 0, 1 ] ]+(Z(2)^0)*[ [ 1, 0, 0, -1 ], [ 0, 1, 0, 0 ], \n",
      "  [ 0, 0, 1, 0 ], [ 0, 0, 0, 1 ] ]+(Z(2)^0)*\n",
      "[ [ 1, 0, 0, -1 ], [ 0, 1, 0, 0 ], [ 0, 0, 1, 1 ], [ 0, 0, 0, 1 ] ]+(Z(2)^0)*\n",
      "[ [ 1, 0, 0, 0 ], [ 0, 1, 0, -1 ], [ 0, 0, 1, 0 ], [ 0, 0, 0, 1 ] ]+(Z(2)^0)*\n",
      "[ [ 1, 0, 0, 0 ], [ 0, 1, 0, -1 ], [ 0, 0, 1, 1 ], [ 0, 0, 0, 1 ] ]+(Z(2)^0)*\n",
      "[ [ 1, 0, 0, 0 ], [ 0, 1, 0, 0 ], [ 0, 0, 1, 0 ], [ 0, 0, 0, 1 ] ]+(Z(2)^0)*\n",
      "[ [ 1, 0, 0, 0 ], [ 0, 1, 0, 0 ], [ 0, 0, 1, 1 ], [ 0, 0, 0, 1 ] ]"
     ]
    }
   ],
   "source": [
    "p1 := x^-1 * p^(e*a);;Print(p1);"
   ]
  },
  {
   "cell_type": "code",
   "execution_count": 32,
   "id": "dangerous-slope",
   "metadata": {},
   "outputs": [
    {
     "name": "stdout",
     "output_type": "stream",
     "text": [
      "(Z(2)^0)*[ [ 1, 0, 0, -1 ], [ 0, 1, 0, -2 ], [ 0, 0, 1, 0 ], [ 0, 0, 0, 1 ] \n",
      " ]+(Z(2)^0)*[ [ 1, 0, 0, -1 ], [ 0, 1, 0, -1 ], [ 0, 0, 1, 1 ], \n",
      "  [ 0, 0, 0, 1 ] ]+(Z(2)^0)*[ [ 1, 0, 0, 0 ], [ 0, 1, 0, -1 ], \n",
      "  [ 0, 0, 1, 1 ], [ 0, 0, 0, 1 ] ]+(Z(2)^0)*[ [ 1, 0, 0, 0 ], [ 0, 1, 0, 0 ], \n",
      "  [ 0, 0, 1, 0 ], [ 0, 0, 0, 1 ] ]"
     ]
    }
   ],
   "source": [
    "q1 := -x^-1 * q;;Print(q1);"
   ]
  },
  {
   "cell_type": "code",
   "execution_count": 34,
   "id": "contemporary-friendly",
   "metadata": {},
   "outputs": [
    {
     "name": "stdout",
     "output_type": "stream",
     "text": [
      "(Z(2)^0)*[ [ 1, 0, 0, -2 ], [ 0, 1, 0, 0 ], [ 0, 0, 1, 1 ], [ 0, 0, 0, 1 ] ]+(\n",
      "Z(2)^0)*[ [ 1, 0, 0, -1 ], [ 0, 1, 0, 0 ], [ 0, 0, 1, 0 ], [ 0, 0, 0, 1 ] ]+(\n",
      "Z(2)^0)*[ [ 1, 0, 0, -1 ], [ 0, 1, 0, 1 ], [ 0, 0, 1, 0 ], [ 0, 0, 0, 1 ] ]+(\n",
      "Z(2)^0)*[ [ 1, 0, 0, 0 ], [ 0, 1, 0, 1 ], [ 0, 0, 1, 1 ], [ 0, 0, 0, 1 ] ]"
     ]
    }
   ],
   "source": [
    "r1 := -y^-1 * r;;Print(r1);"
   ]
  },
  {
   "cell_type": "code",
   "execution_count": 36,
   "id": "contrary-factor",
   "metadata": {},
   "outputs": [
    {
     "name": "stdout",
     "output_type": "stream",
     "text": [
      "(Z(2)^0)*[ [ 1, 0, 0, -1 ], [ 0, 1, 0, 0 ], [ 0, 0, 1, 0 ], [ 0, 0, 0, 1 ] ]+(\n",
      "Z(2)^0)*[ [ 1, 0, 0, 0 ], [ 0, 1, 0, -1 ], [ 0, 0, 1, 0 ], [ 0, 0, 0, 1 ] ]+(\n",
      "Z(2)^0)*[ [ 1, 0, 0, 0 ], [ 0, 1, 0, 0 ], [ 0, 0, 1, -1 ], [ 0, 0, 0, 1 ] ]+(\n",
      "Z(2)^0)*[ [ 1, 0, 0, 0 ], [ 0, 1, 0, 1 ], [ 0, 0, 1, 0 ], [ 0, 0, 0, 1 ] ]+(\n",
      "Z(2)^0)*[ [ 1, 0, 0, 1 ], [ 0, 1, 0, 0 ], [ 0, 0, 1, 0 ], [ 0, 0, 0, 1 ] ]"
     ]
    }
   ],
   "source": [
    "s1 := z^-1 * s^(e*a);;Print(s1);"
   ]
  },
  {
   "cell_type": "code",
   "execution_count": 38,
   "id": "automated-lease",
   "metadata": {},
   "outputs": [
    {
     "name": "stdout",
     "output_type": "stream",
     "text": [
      "(Z(2)^0)*[ [ -1, 0, 0, -3/2 ], [ 0, -1, 0, 1/2 ], [ 0, 0, 1, 1/2 ], \n",
      "  [ 0, 0, 0, 1 ] ]+(Z(2)^0)*[ [ -1, 0, 0, -1 ], [ 0, 1, 0, -3/2 ], \n",
      "  [ 0, 0, -1, 1/2 ], [ 0, 0, 0, 1 ] ]+(Z(2)^0)*\n",
      "[ [ -1, 0, 0, -1 ], [ 0, 1, 0, -1/2 ], [ 0, 0, -1, 3/2 ], [ 0, 0, 0, 1 ] ]+(\n",
      "Z(2)^0)*[ [ -1, 0, 0, -1/2 ], [ 0, -1, 0, -1/2 ], [ 0, 0, 1, 1/2 ], \n",
      "  [ 0, 0, 0, 1 ] ]+(Z(2)^0)*[ [ -1, 0, 0, -1/2 ], [ 0, -1, 0, 1/2 ], \n",
      "  [ 0, 0, 1, -1/2 ], [ 0, 0, 0, 1 ] ]+(Z(2)^0)*\n",
      "[ [ -1, 0, 0, -1/2 ], [ 0, -1, 0, 3/2 ], [ 0, 0, 1, 1/2 ], [ 0, 0, 0, 1 ] ]+(\n",
      "Z(2)^0)*[ [ -1, 0, 0, 0 ], [ 0, 1, 0, -1/2 ], [ 0, 0, -1, 3/2 ], \n",
      "  [ 0, 0, 0, 1 ] ]+(Z(2)^0)*[ [ -1, 0, 0, 0 ], [ 0, 1, 0, 1/2 ], \n",
      "  [ 0, 0, -1, 1/2 ], [ 0, 0, 0, 1 ] ]+(Z(2)^0)*\n",
      "[ [ -1, 0, 0, 1/2 ], [ 0, -1, 0, 1/2 ], [ 0, 0, 1, 1/2 ], [ 0, 0, 0, 1 ] ]+(\n",
      "Z(2)^0)*[ [ 1, 0, 0, -3/2 ], [ 0, -1, 0, 0 ], [ 0, 0, -1, 1 ], [ 0, 0, 0, 1 ] \n",
      " ]+(Z(2)^0)*[ [ 1, 0, 0, -1 ], [ 0, 1, 0, -1 ], [ 0, 0, 1, 0 ], \n",
      "  [ 0, 0, 0, 1 ] ]+(Z(2)^0)*[ [ 1, 0, 0, -1 ], [ 0, 1, 0, -1 ], \n",
      "  [ 0, 0, 1, 1 ], [ 0, 0, 0, 1 ] ]+(Z(2)^0)*\n",
      "[ [ 1, 0, 0, -1 ], [ 0, 1, 0, 0 ], [ 0, 0, 1, 0 ], [ 0, 0, 0, 1 ] ]+(Z(2)^0)*\n",
      "[ [ 1, 0, 0, -1 ], [ 0, 1, 0, 0 ], [ 0, 0, 1, 1 ], [ 0, 0, 0, 1 ] ]+(Z(2)^0)*\n",
      "[ [ 1, 0, 0, -1/2 ], [ 0, -1, 0, 0 ], [ 0, 0, -1, 0 ], [ 0, 0, 0, 1 ] ]+(Z(2)^\n",
      "0)*[ [ 1, 0, 0, -1/2 ], [ 0, -1, 0, 1 ], [ 0, 0, -1, 0 ], [ 0, 0, 0, 1 ] ]+(\n",
      "Z(2)^0)*[ [ 1, 0, 0, 0 ], [ 0, 1, 0, -1 ], [ 0, 0, 1, 0 ], [ 0, 0, 0, 1 ] ]+(\n",
      "Z(2)^0)*[ [ 1, 0, 0, 0 ], [ 0, 1, 0, -1 ], [ 0, 0, 1, 1 ], [ 0, 0, 0, 1 ] ]+(\n",
      "Z(2)^0)*[ [ 1, 0, 0, 0 ], [ 0, 1, 0, 0 ], [ 0, 0, 1, 0 ], [ 0, 0, 0, 1 ] ]+(\n",
      "Z(2)^0)*[ [ 1, 0, 0, 0 ], [ 0, 1, 0, 0 ], [ 0, 0, 1, 1 ], [ 0, 0, 0, 1 ] ]+(\n",
      "Z(2)^0)*[ [ 1, 0, 0, 1/2 ], [ 0, -1, 0, 1 ], [ 0, 0, -1, 1 ], [ 0, 0, 0, 1 ] ]"
     ]
    }
   ],
   "source": [
    "v := p1 + q1*a + r1*b + s1*a*b;;Print(v);"
   ]
  },
  {
   "cell_type": "markdown",
   "id": "least-candle",
   "metadata": {},
   "source": [
    "Finally, we verify that $uv = vu = 1$:"
   ]
  },
  {
   "cell_type": "code",
   "execution_count": 40,
   "id": "subsequent-marks",
   "metadata": {},
   "outputs": [
    {
     "name": "stdout",
     "output_type": "stream",
     "text": [
      "(Z(2)^0)*[ [ 1, 0, 0, 0 ], [ 0, 1, 0, 0 ], [ 0, 0, 1, 0 ], [ 0, 0, 0, 1 ] ]"
     ]
    }
   ],
   "source": [
    "w:=u*v;;Print(w);"
   ]
  },
  {
   "cell_type": "code",
   "execution_count": 41,
   "id": "surface-wisdom",
   "metadata": {},
   "outputs": [
    {
     "data": {
      "text/plain": [
       "true"
      ]
     },
     "execution_count": 41,
     "metadata": {
      "text/plain": ""
     },
     "output_type": "execute_result"
    }
   ],
   "source": [
    "w=e;"
   ]
  },
  {
   "cell_type": "code",
   "execution_count": 43,
   "id": "further-redhead",
   "metadata": {},
   "outputs": [
    {
     "name": "stdout",
     "output_type": "stream",
     "text": [
      "(Z(2)^0)*[ [ 1, 0, 0, 0 ], [ 0, 1, 0, 0 ], [ 0, 0, 1, 0 ], [ 0, 0, 0, 1 ] ]"
     ]
    }
   ],
   "source": [
    "w:=v*u;;Print(w);"
   ]
  },
  {
   "cell_type": "markdown",
   "id": "compliant-equation",
   "metadata": {},
   "source": [
    "Instead of comparing with `e`, could also use `IsOne`:"
   ]
  },
  {
   "cell_type": "code",
   "execution_count": 44,
   "id": "velvet-sperm",
   "metadata": {},
   "outputs": [
    {
     "data": {
      "text/plain": [
       "true"
      ]
     },
     "execution_count": 44,
     "metadata": {
      "text/plain": ""
     },
     "output_type": "execute_result"
    }
   ],
   "source": [
    "IsOne(w);"
   ]
  }
 ],
 "metadata": {
  "kernelspec": {
   "display_name": "GAP 4",
   "language": "gap",
   "name": "gap-4"
  },
  "language_info": {
   "codemirror_mode": "gap",
   "file_extension": ".g",
   "mimetype": "text/x-gap",
   "name": "GAP 4",
   "nbconvert_exporter": "",
   "pygments_lexer": "gap",
   "version": "4.11.1"
  }
 },
 "nbformat": 4,
 "nbformat_minor": 5
}
