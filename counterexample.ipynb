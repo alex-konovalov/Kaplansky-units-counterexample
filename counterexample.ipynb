{
 "cells": [
  {
   "cell_type": "markdown",
   "id": "floral-credits",
   "metadata": {},
   "source": [
    "## Verification of the counterexample to the unit conjecture for group rings"
   ]
  },
  {
   "cell_type": "markdown",
   "id": "skilled-madness",
   "metadata": {},
   "source": [
    "First, we create a group $G$ from Theorem A."
   ]
  },
  {
   "cell_type": "code",
   "execution_count": 1,
   "id": "heard-underground",
   "metadata": {},
   "outputs": [
    {
     "data": {
      "text/plain": [
       "<group with 2 generators>"
      ]
     },
     "execution_count": 1,
     "metadata": {
      "text/plain": ""
     },
     "output_type": "execute_result"
    }
   ],
   "source": [
    "F:=FreeGroup(\"a\",\"b\");"
   ]
  },
  {
   "cell_type": "code",
   "execution_count": 2,
   "id": "working-punch",
   "metadata": {},
   "outputs": [
    {
     "data": {
      "text/plain": [
       "<group with 2 generators>"
      ]
     },
     "execution_count": 2,
     "metadata": {
      "text/plain": ""
     },
     "output_type": "execute_result"
    }
   ],
   "source": [
    "G:=F/ParseRelators(GeneratorsOfGroup(F),\"(a^2)^b=a^-2, (b^2)^a=b^-2\");"
   ]
  }
 ],
 "metadata": {
  "kernelspec": {
   "display_name": "GAP 4",
   "language": "gap",
   "name": "gap-4"
  },
  "language_info": {
   "codemirror_mode": "gap",
   "file_extension": ".g",
   "mimetype": "text/x-gap",
   "name": "GAP 4",
   "nbconvert_exporter": "",
   "pygments_lexer": "gap",
   "version": "4.11.1"
  }
 },
 "nbformat": 4,
 "nbformat_minor": 5
}
